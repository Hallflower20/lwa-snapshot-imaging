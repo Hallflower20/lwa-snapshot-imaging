{
 "cells": [
  {
   "cell_type": "code",
   "execution_count": 40,
   "metadata": {},
   "outputs": [],
   "source": [
    "import numpy as np\n",
    "import glob\n",
    "import astropy\n",
    "from astropy.io import fits\n",
    "import os\n",
    "from matplotlib import colors\n",
    "import matplotlib.pyplot as plt\n",
    "import casatasks\n",
    "import casatools\n",
    "import os\n",
    "import sys\n",
    "import subprocess"
   ]
  },
  {
   "cell_type": "code",
   "execution_count": 3,
   "metadata": {},
   "outputs": [],
   "source": [
    "data_location = \"/fast/xhall/snapshots/ten_mintues/\"\n",
    "#os.mkdir(data_location)"
   ]
  },
  {
   "cell_type": "code",
   "execution_count": 4,
   "metadata": {},
   "outputs": [],
   "source": [
    "day_run = '/data09/xhall/2023-08-19_24hour_run/'\n",
    "file_list = np.sort(glob.glob(day_run + \"*.ms\"))"
   ]
  },
  {
   "cell_type": "code",
   "execution_count": 6,
   "metadata": {},
   "outputs": [],
   "source": [
    "file_list_up = []\n",
    "for i in file_list:\n",
    "    file = i.split(\"/\")[-1]\n",
    "    date_split = file.split(\"_\")\n",
    "    if((int(date_split[0]) > 20230819) and (int(date_split[1]) > 50000) and (int(date_split[1]) < 90000)):\n",
    "        file_list_up.append(i)\n",
    "file_list_up = np.sort(file_list_up)"
   ]
  },
  {
   "cell_type": "code",
   "execution_count": 7,
   "metadata": {},
   "outputs": [],
   "source": [
    "length_jump = (int(len(file_list_up)/60) + 1)\n",
    "for i in range(length_jump):\n",
    "    data_file = file_list_up[60 * i]\n",
    "    os.popen(\"cp -r \" + data_file + \" \" + data_location)"
   ]
  },
  {
   "cell_type": "code",
   "execution_count": 10,
   "metadata": {},
   "outputs": [],
   "source": [
    "data_files = np.sort(glob.glob(data_location + \"*.ms\"))\n",
    "# /fast/xhall/snapshots/ten_test"
   ]
  },
  {
   "cell_type": "code",
   "execution_count": 11,
   "metadata": {},
   "outputs": [
    {
     "data": {
      "text/plain": [
       "'/fast/xhall/snapshots/ten_mintues/20230820_050010_73MHz.ms'"
      ]
     },
     "execution_count": 11,
     "metadata": {},
     "output_type": "execute_result"
    }
   ],
   "source": [
    "data_files[0]"
   ]
  },
  {
   "cell_type": "code",
   "execution_count": 45,
   "metadata": {},
   "outputs": [],
   "source": [
    "antenna = \"79,150,201,224,229,215,221,242,246,272,294,299,332,334,33,34,37,38,41,42,44,92,51,21,190,154,56,29,28,222,126,127\"\n",
    "image_output = \"/fast/xhall/snapshots/tm_images\""
   ]
  },
  {
   "cell_type": "code",
   "execution_count": 55,
   "metadata": {},
   "outputs": [
    {
     "name": "stderr",
     "output_type": "stream",
     "text": [
      "2023-11-14 07:42:06\tWARN\tclearcal::calibrater::setvi(bool,bool)\tForcing use of OLD VisibilityIterator.\n"
     ]
    },
    {
     "name": "stdout",
     "output_type": "stream",
     "text": [
      "113 of 638 solutions flagged due to SNR < 10 in spw=0 (chan=161) at 2023/08/20/05:10:17.1\n"
     ]
    }
   ],
   "source": [
    "i = 0\n",
    "for file_name in data_files[2:]:\n",
    "    msfile_name = file_name.split(\"/\")[-1].split(\".\")\n",
    "    msfile_prefix = msfile_name[0]\n",
    "    cl_file = os.path.join(data_location, msfile_prefix + \".cl\")\n",
    "\n",
    "    image_output_new = os.path.join(image_output, msfile_prefix)\n",
    "    if(not(os.path.exists(image_output_new))):\n",
    "        os.mkdir(image_output_new)\n",
    "\n",
    "\n",
    "    casatasks.casalog.filter(\"SEVERE\")\n",
    "    log = os.path.join(image_output_new, msfile_prefix + \".log\")\n",
    "    casatasks.casalog.setlogfile(log)\n",
    "    \n",
    "    if(os.path.exists(cl_file)):\n",
    "        subprocess.run([\"rm\", \"-r\", cl_file])\n",
    "        casatasks.casalog.post(\"Removed previous CL\")\n",
    "    cl_output = subprocess.run([\"sh\", \"/home/xhall/GitHub/lwa-snapshot-imaging/cl_maker.sh\", file_name], capture_output = True, text = True)\n",
    "    casatasks.casalog.post(cl_output.stdout)\n",
    "    casatasks.casalog.post(cl_output.stderr)\n",
    "\n",
    "    bcal_file = str(os.path.join(data_location, msfile_prefix + \".bcal\"))\n",
    "    casatasks.flagdata(str(file_name), antenna=antenna, datacolumn=\"all\", flagbackup=False)\n",
    "    casatasks.clearcal(str(file_name), addmodel=True)\n",
    "    casatasks.ft(str(file_name), complist = str(cl_file), usescratch=True)\n",
    "    casatasks.bandpass(str(file_name), bcal_file, uvrange='>15lambda', fillgaps = 1, minsnr = 10, interp = \"spline\")\n",
    "    casatasks.applycal(str(file_name), gaintable = bcal_file, flagbackup = False)\n",
    "    casatasks.flagdata(str(file_name), mode = \"rflag\", antenna=antenna, datacolumn=\"CORRECTED\", flagbackup=False)\n",
    "\n",
    "    casatasks.casalog.post(\"Finished Flagging and Calibrating\")\n",
    "\n",
    "    im_output = subprocess.run([\"sh\", \"/home/xhall/GitHub/lwa-snapshot-imaging/im_maker.sh\", os.path.join(image_output_new, msfile_prefix), file_name], capture_output = True, text = True)\n",
    "    casatasks.casalog.post(im_output.stdout)\n",
    "    casatasks.casalog.post(im_output.stderr)\n",
    "    i += 1\n",
    "    print(i)"
   ]
  },
  {
   "cell_type": "code",
   "execution_count": null,
   "metadata": {},
   "outputs": [],
   "source": []
  }
 ],
 "metadata": {
  "kernelspec": {
   "display_name": "m-mode-plotting",
   "language": "python",
   "name": "python3"
  },
  "language_info": {
   "codemirror_mode": {
    "name": "ipython",
    "version": 3
   },
   "file_extension": ".py",
   "mimetype": "text/x-python",
   "name": "python",
   "nbconvert_exporter": "python",
   "pygments_lexer": "ipython3",
   "version": "3.8.18"
  }
 },
 "nbformat": 4,
 "nbformat_minor": 2
}
