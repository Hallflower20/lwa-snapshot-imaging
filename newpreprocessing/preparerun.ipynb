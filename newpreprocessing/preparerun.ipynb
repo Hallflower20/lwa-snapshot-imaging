{
 "cells": [
  {
   "cell_type": "code",
   "execution_count": 1,
   "metadata": {},
   "outputs": [],
   "source": [
    "import numpy as np\n",
    "import glob\n",
    "import astropy\n",
    "from astropy.io import fits\n",
    "import os\n",
    "from matplotlib import colors\n",
    "import matplotlib.pyplot as plt\n",
    "import casatasks\n",
    "import casatools\n",
    "import os\n",
    "import sys\n",
    "import subprocess"
   ]
  },
  {
   "cell_type": "code",
   "execution_count": 2,
   "metadata": {},
   "outputs": [],
   "source": [
    "data_location = \"/lustre/xhall/2023-08-19_24hour_run/\"\n",
    "antenna = \"79,150,201,224,229,215,221,242,246,272,294,299,332,334,33,34,37,38,41,42,44,92,51,21,190,154,56,29,28,222,126,127\""
   ]
  },
  {
   "cell_type": "code",
   "execution_count": 7,
   "metadata": {},
   "outputs": [],
   "source": [
    "data_files = np.sort(glob.glob(data_location + \"*.ms\"))\n",
    "bcal_file = \"/fast/xhall/snapshots/ten_mintues/20230820_060021_73MHz.bcal\""
   ]
  },
  {
   "cell_type": "code",
   "execution_count": 6,
   "metadata": {},
   "outputs": [],
   "source": [
    "def flagcal(file_name, antenna, bcal_file):\n",
    "    casatasks.flagdata(str(file_name), antenna=antenna, datacolumn=\"all\", flagbackup=False)\n",
    "    casatasks.clearcal(str(file_name))\n",
    "    casatasks.applycal(str(file_name), gaintable = bcal_file, flagbackup = False)\n",
    "    casatasks.flagdata(str(file_name), mode = \"rflag\", antenna=antenna, datacolumn=\"CORRECTED\", flagbackup=False)"
   ]
  },
  {
   "cell_type": "code",
   "execution_count": 10,
   "metadata": {},
   "outputs": [],
   "source": [
    "test_file_n = \"/lustre/xhall/test_file/20230819_063811_73MHz.ms\"\n",
    "test_file_d = \"/lustre/xhall/test_file/20230819_211513_73MHz.ms\""
   ]
  },
  {
   "cell_type": "code",
   "execution_count": 12,
   "metadata": {},
   "outputs": [
    {
     "name": "stderr",
     "output_type": "stream",
     "text": [
      "2023-11-14 10:06:08\tWARN\tcalibrater::setvi(bool,bool)\tForcing use of OLD VisibilityIterator.\n"
     ]
    }
   ],
   "source": [
    "flagcal(test_file_n, antenna, bcal_file)"
   ]
  },
  {
   "cell_type": "code",
   "execution_count": 13,
   "metadata": {},
   "outputs": [
    {
     "name": "stderr",
     "output_type": "stream",
     "text": [
      "2023-11-14 10:06:34\tWARN\tcalibrater::setvi(bool,bool)\tForcing use of OLD VisibilityIterator.\n"
     ]
    }
   ],
   "source": [
    "flagcal(test_file_d, antenna, bcal_file)"
   ]
  },
  {
   "cell_type": "code",
   "execution_count": 14,
   "metadata": {},
   "outputs": [],
   "source": [
    "im_output = subprocess.run([\"sh\", \"/home/xhall/GitHub/lwa-snapshot-imaging/im_maker.sh\", \"/lustre/xhall/test_file/night\", test_file_n], capture_output = True, text = True)"
   ]
  },
  {
   "cell_type": "code",
   "execution_count": 18,
   "metadata": {},
   "outputs": [],
   "source": [
    "import multiprocessing as mp"
   ]
  },
  {
   "cell_type": "code",
   "execution_count": 19,
   "metadata": {},
   "outputs": [],
   "source": [
    "pool = mp.Pool(processes=90)"
   ]
  },
  {
   "cell_type": "code",
   "execution_count": 20,
   "metadata": {},
   "outputs": [],
   "source": [
    "def cube_num(x):\n",
    "    pass"
   ]
  },
  {
   "cell_type": "code",
   "execution_count": 23,
   "metadata": {},
   "outputs": [],
   "source": [
    "nums = np.arange(1,200)"
   ]
  },
  {
   "cell_type": "code",
   "execution_count": null,
   "metadata": {},
   "outputs": [],
   "source": [
    "for _ in tqdm.tqdm(pool.map_async(cube_num, nums), total=len(nums)):\n",
    "        pass"
   ]
  }
 ],
 "metadata": {
  "kernelspec": {
   "display_name": "snapshot_imaging",
   "language": "python",
   "name": "python3"
  },
  "language_info": {
   "codemirror_mode": {
    "name": "ipython",
    "version": 3
   },
   "file_extension": ".py",
   "mimetype": "text/x-python",
   "name": "python",
   "nbconvert_exporter": "python",
   "pygments_lexer": "ipython3",
   "version": "3.8.18"
  }
 },
 "nbformat": 4,
 "nbformat_minor": 2
}
