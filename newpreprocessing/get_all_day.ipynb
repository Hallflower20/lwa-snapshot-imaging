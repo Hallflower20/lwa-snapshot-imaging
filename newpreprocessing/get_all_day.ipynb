{
 "cells": [
  {
   "cell_type": "code",
   "execution_count": 41,
   "metadata": {},
   "outputs": [],
   "source": [
    "import numpy as np\n",
    "import glob\n",
    "import astropy\n",
    "from astropy.io import fits\n",
    "import os\n",
    "from matplotlib import colors\n",
    "import matplotlib.pyplot as plt\n",
    "import casatasks\n",
    "import casatools\n",
    "import os\n",
    "import sys\n",
    "import subprocess\n",
    "import tqdm\n",
    "import multiprocessing as mp\n",
    "import cv2"
   ]
  },
  {
   "cell_type": "code",
   "execution_count": null,
   "metadata": {},
   "outputs": [],
   "source": [
    "data_location = \"/lustre/xhall/2023-08-19_24hour_run\"\n",
    "file_list = np.sort(glob.glob(os.path.join(data_location, \"*.ms\")))"
   ]
  },
  {
   "cell_type": "code",
   "execution_count": null,
   "metadata": {},
   "outputs": [],
   "source": [
    "image_output = \"/lustre/xhall/2023-08-19_24hour_run_20min_images\""
   ]
  },
  {
   "cell_type": "code",
   "execution_count": null,
   "metadata": {},
   "outputs": [],
   "source": [
    "len(file_list)"
   ]
  },
  {
   "cell_type": "code",
   "execution_count": null,
   "metadata": {},
   "outputs": [],
   "source": [
    "time_spacing = 6 * 20 #20 Minutes\n",
    "choosen_images = []\n",
    "for i in range(int(len(file_list) / (time_spacing) + 1)):\n",
    "    choosen_images.append(file_list[i * time_spacing])"
   ]
  },
  {
   "cell_type": "code",
   "execution_count": null,
   "metadata": {},
   "outputs": [],
   "source": [
    "def make_image(file_name):\n",
    "    msfile_name = file_name.split(\"/\")[-1].split(\".\")\n",
    "    msfile_prefix = msfile_name[0]\n",
    "    image_output_new = os.path.join(image_output, msfile_prefix)\n",
    "    if(not(os.path.exists(image_output_new))):\n",
    "        os.mkdir(image_output_new)\n",
    "\n",
    "    im_output = subprocess.run([\"sh\", \"/home/xhall/GitHub/lwa-snapshot-imaging/im_maker.sh\", os.path.join(image_output_new, msfile_prefix), file_name], capture_output = True, text = True)"
   ]
  },
  {
   "cell_type": "code",
   "execution_count": null,
   "metadata": {},
   "outputs": [],
   "source": [
    "pool = mp.Pool(processes=20)\n",
    "for _ in tqdm.tqdm(pool.map(make_image, choosen_images), total=len(choosen_images)):\n",
    "        pass"
   ]
  },
  {
   "cell_type": "code",
   "execution_count": null,
   "metadata": {},
   "outputs": [],
   "source": [
    "png_output = \"/lustre/xhall/2023-08-19_24hour_run_20min_images/images\""
   ]
  },
  {
   "cell_type": "code",
   "execution_count": null,
   "metadata": {},
   "outputs": [],
   "source": [
    "for file_name in choosen_images:\n",
    "    msfile_name = file_name.split(\"/\")[-1].split(\".\")\n",
    "    msfile_prefix = msfile_name[0]\n",
    "    image_output_new = os.path.join(image_output, msfile_prefix)\n",
    "    fits_location = os.path.join(image_output_new, msfile_prefix + \"-image.fits\")\n",
    "    image = fits.open(fits_location)[0].data[0][0]\n",
    "\n",
    "    plt.figure(figsize = (12,10))\n",
    "    plt.imshow(image, origin='lower', cmap='gray', vmin = 0, vmax = 70)\n",
    "    plt.title(msfile_prefix)\n",
    "    plt.colorbar()\n",
    "    plt.savefig(os.path.join(png_output, msfile_prefix + \".png\"), dpi = 300)\n",
    "    plt.close()"
   ]
  },
  {
   "cell_type": "code",
   "execution_count": 43,
   "metadata": {},
   "outputs": [],
   "source": [
    "video_name = '2023_08_19_24hourset_sorted.avi'\n",
    "\n",
    "images = [img for img in np.sort(os.listdir(png_output)) if img.endswith(\".png\")]\n",
    "frame = cv2.imread(os.path.join(png_output, images[0]))\n",
    "height, width, layers = frame.shape\n",
    "\n",
    "video = cv2.VideoWriter(os.path.join(png_output, video_name), 0, 1, (width,height))\n",
    "\n",
    "for image in images:\n",
    "    video.write(cv2.imread(os.path.join(png_output, image)))\n",
    "\n",
    "cv2.destroyAllWindows()\n",
    "video.release()"
   ]
  },
  {
   "cell_type": "code",
   "execution_count": null,
   "metadata": {},
   "outputs": [],
   "source": []
  }
 ],
 "metadata": {
  "kernelspec": {
   "display_name": "snapshot_imaging",
   "language": "python",
   "name": "python3"
  },
  "language_info": {
   "codemirror_mode": {
    "name": "ipython",
    "version": 3
   },
   "file_extension": ".py",
   "mimetype": "text/x-python",
   "name": "python",
   "nbconvert_exporter": "python",
   "pygments_lexer": "ipython3",
   "version": "3.8.18"
  }
 },
 "nbformat": 4,
 "nbformat_minor": 2
}
